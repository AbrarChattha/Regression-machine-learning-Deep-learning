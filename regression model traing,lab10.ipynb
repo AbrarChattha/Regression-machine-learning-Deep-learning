{
 "cells": [
  {
   "cell_type": "code",
   "execution_count": 1,
   "metadata": {},
   "outputs": [],
   "source": [
    "import pandas as pd"
   ]
  },
  {
   "cell_type": "code",
   "execution_count": 7,
   "metadata": {},
   "outputs": [
    {
     "data": {
      "text/html": [
       "<div>\n",
       "<style scoped>\n",
       "    .dataframe tbody tr th:only-of-type {\n",
       "        vertical-align: middle;\n",
       "    }\n",
       "\n",
       "    .dataframe tbody tr th {\n",
       "        vertical-align: top;\n",
       "    }\n",
       "\n",
       "    .dataframe thead th {\n",
       "        text-align: right;\n",
       "    }\n",
       "</style>\n",
       "<table border=\"1\" class=\"dataframe\">\n",
       "  <thead>\n",
       "    <tr style=\"text-align: right;\">\n",
       "      <th></th>\n",
       "      <th>first</th>\n",
       "      <th>second</th>\n",
       "    </tr>\n",
       "  </thead>\n",
       "  <tbody>\n",
       "    <tr>\n",
       "      <th>0</th>\n",
       "      <td>NaN</td>\n",
       "      <td>45.0</td>\n",
       "    </tr>\n",
       "    <tr>\n",
       "      <th>1</th>\n",
       "      <td>NaN</td>\n",
       "      <td>56.0</td>\n",
       "    </tr>\n",
       "    <tr>\n",
       "      <th>2</th>\n",
       "      <td>NaN</td>\n",
       "      <td>67.0</td>\n",
       "    </tr>\n",
       "    <tr>\n",
       "      <th>3</th>\n",
       "      <td>NaN</td>\n",
       "      <td>56.0</td>\n",
       "    </tr>\n",
       "    <tr>\n",
       "      <th>34</th>\n",
       "      <td>ab</td>\n",
       "      <td>NaN</td>\n",
       "    </tr>\n",
       "    <tr>\n",
       "      <th>45</th>\n",
       "      <td>abr</td>\n",
       "      <td>NaN</td>\n",
       "    </tr>\n",
       "    <tr>\n",
       "      <th>68</th>\n",
       "      <td>abra</td>\n",
       "      <td>NaN</td>\n",
       "    </tr>\n",
       "    <tr>\n",
       "      <th>87</th>\n",
       "      <td>abrar</td>\n",
       "      <td>NaN</td>\n",
       "    </tr>\n",
       "  </tbody>\n",
       "</table>\n",
       "</div>"
      ],
      "text/plain": [
       "    first  second\n",
       "0     NaN    45.0\n",
       "1     NaN    56.0\n",
       "2     NaN    67.0\n",
       "3     NaN    56.0\n",
       "34     ab     NaN\n",
       "45    abr     NaN\n",
       "68   abra     NaN\n",
       "87  abrar     NaN"
      ]
     },
     "execution_count": 7,
     "metadata": {},
     "output_type": "execute_result"
    }
   ],
   "source": [
    "d={'first':pd.Series(['ab','abr','abra','abrar'],[34,45,68,87]),'second':pd.Series([45,56,67,56])}\n",
    "df=pd.DataFrame(d)\n",
    "df"
   ]
  },
  {
   "cell_type": "code",
   "execution_count": 3,
   "metadata": {},
   "outputs": [
    {
     "name": "stdout",
     "output_type": "stream",
     "text": [
      "Ali        100\n",
      "Aslam      200\n",
      "Mohsin     500\n",
      "Zeeshan    600\n",
      "Waheed     700\n",
      "dtype: int64\n",
      "100        Ali\n",
      "200      Aslam\n",
      "500     Mohsin\n",
      "600    Zeeshan\n",
      "700     Waheed\n",
      "dtype: object\n"
     ]
    },
    {
     "data": {
      "image/png": "[encoded data removed]",
      "text/plain": [
       "<Figure size 432x288 with 1 Axes>"
      ]
     },
     "metadata": {
      "needs_background": "light"
     },
     "output_type": "display_data"
    }
   ],
   "source": [
    "\n",
    "import pandas as pd\n",
    "ser=pd.Series(data=[100,200,500,600,700],index=['Ali','Aslam','Mohsin','Zeeshan','Waheed'])\n",
    "ser\n",
    "\n",
    "\n",
    "import pandas as pd\n",
    "ser=pd.Series(data=[100,200,500,600,700])\n",
    "ser\n",
    "\n",
    "\n",
    "import pandas as pd\n",
    "ser1=pd.Series(data=['Ali','Aslam','Mohsin','Zeeshan','Waheed'],index=[100,200,500,600,700])\n",
    "ser\n",
    "\n",
    "\n",
    "ser1.index\n",
    "\n",
    "ser.index\n",
    "\n",
    "import pandas as pd\n",
    "ser2=pd.Series(data=['Ali','Aslam','Mohsin','Zeeshan','Waheed'],index=[100,200,500,600,700])\n",
    "ser\n",
    "\n",
    "\n",
    "import pandas as pd\n",
    "ser=pd.Series(data=[100,200,500,600,700],index=['Ali','Aslam','Mohsin','Zeeshan','Waheed'])\n",
    "ser\n",
    "\n",
    "\n",
    "ser['Aslam']\n",
    "\n",
    "ser.loc[['Mohsin','Ali']]\n",
    "\n",
    "ser1.loc[[100,200]]\n",
    "\n",
    "ser=pd.Series([100,200,500,600,700],['Ali','Aslam','Mohsin','Zeeshan','Waheed'])\n",
    "print(ser)\n",
    "\n",
    "\n",
    "ser[[1,3]]\n",
    "\n",
    "'Alian' in ser\n",
    "\n",
    "ser*3\n",
    "ser[['Ali','Zeeshan']]**2\n",
    "ser\n",
    "\n",
    "\n",
    "ser=pd.Series(['Ali','Aslam','Mohsin','Zeeshan','Waheed'],[100,200,500,600,700])\n",
    "print(ser)\n",
    "\n",
    "ser[100]\n",
    "\n",
    "\n",
    "d={'first':pd.Series([500,600,700,800],['Chair','Books','Pen','Tables']),'second':pd.Series([1000,2000,3000,4000,5000],['Chair','Bottles','Cup','Pen','Glass'])}\n",
    "df=pd.DataFrame(d)\n",
    "df\n",
    "\n",
    "\n",
    "df.index\n",
    "pd.DataFrame(d,index=['Apple','Books','Chair'])\n",
    "\n",
    "\n",
    "df['third']=df['first']*df['second']\n",
    "df\n",
    "df['third']=df['first']<700\n",
    "df\n",
    "\n",
    "\n",
    "data=[{'Ali':98,'Muhammad':100,'Alya':90},{'Saleem':87,'Raheel':80},{'Nadeem':78}]\n",
    "df=pd.DataFrame(data)\n",
    "df\n",
    "\n",
    "\n",
    "df.index\n",
    "pd.DataFrame(d,index=['Apple','Books','Chair'])\n",
    "#Another Form of Data in Data Frames\n",
    "data=[{'Ali':98,'Muhammad':100,'Alya':90},{'Saleem':87,'Raheel':80},{'Nadeem':78}]\n",
    "pd.DataFrame(data)\n",
    "df\n",
    "\n",
    "\n",
    "dailyact={'Days':['Mon','Tue','Wed','Thur'],'Study':[8,7,9,6],'Play':[2,1,2,1]}\n",
    "df1=pd.DataFrame(dailyact)\n",
    "df1\n",
    "\n",
    "\n",
    "import matplotlib.pyplot as plt\n",
    "df1['Study'].plot()\n",
    "plt.show()\n",
    "\n"
   ]
  },
  {
   "cell_type": "code",
   "execution_count": 1,
   "metadata": {},
   "outputs": [
    {
     "data": {
      "text/plain": [
       "0    100\n",
       "1    200\n",
       "2    500\n",
       "3    600\n",
       "4    700\n",
       "dtype: int64"
      ]
     },
     "execution_count": 1,
     "metadata": {},
     "output_type": "execute_result"
    }
   ],
   "source": [
    "\n",
    "import pandas as pd\n",
    "ser=pd.Series(data=[100,200,500,600,700])\n",
    "ser\n"
   ]
  },
  {
   "cell_type": "code",
   "execution_count": 13,
   "metadata": {},
   "outputs": [
    {
     "data": {
      "image/png": "[encoded data removed]",
      "text/plain": [
       "<Figure size 432x288 with 1 Axes>"
      ]
     },
     "metadata": {
      "needs_background": "light"
     },
     "output_type": "display_data"
    }
   ],
   "source": [
    "plt.plot([1,2,3],[4,5,1])\n",
    "plt.show()"
   ]
  },
  {
   "cell_type": "code",
   "execution_count": 2,
   "metadata": {},
   "outputs": [
    {
     "data": {
      "text/html": [
       "<div>\n",
       "<style scoped>\n",
       "    .dataframe tbody tr th:only-of-type {\n",
       "        vertical-align: middle;\n",
       "    }\n",
       "\n",
       "    .dataframe tbody tr th {\n",
       "        vertical-align: top;\n",
       "    }\n",
       "\n",
       "    .dataframe thead th {\n",
       "        text-align: right;\n",
       "    }\n",
       "</style>\n",
       "<table border=\"1\" class=\"dataframe\">\n",
       "  <thead>\n",
       "    <tr style=\"text-align: right;\">\n",
       "      <th></th>\n",
       "      <th>Days</th>\n",
       "      <th>Study</th>\n",
       "      <th>Play</th>\n",
       "    </tr>\n",
       "  </thead>\n",
       "  <tbody>\n",
       "    <tr>\n",
       "      <th>0</th>\n",
       "      <td>Mon</td>\n",
       "      <td>8</td>\n",
       "      <td>2</td>\n",
       "    </tr>\n",
       "    <tr>\n",
       "      <th>1</th>\n",
       "      <td>Tue</td>\n",
       "      <td>7</td>\n",
       "      <td>1</td>\n",
       "    </tr>\n",
       "    <tr>\n",
       "      <th>2</th>\n",
       "      <td>Wed</td>\n",
       "      <td>9</td>\n",
       "      <td>2</td>\n",
       "    </tr>\n",
       "    <tr>\n",
       "      <th>3</th>\n",
       "      <td>Thur</td>\n",
       "      <td>6</td>\n",
       "      <td>1</td>\n",
       "    </tr>\n",
       "  </tbody>\n",
       "</table>\n",
       "</div>"
      ],
      "text/plain": [
       "   Days  Study  Play\n",
       "0   Mon      8     2\n",
       "1   Tue      7     1\n",
       "2   Wed      9     2\n",
       "3  Thur      6     1"
      ]
     },
     "execution_count": 2,
     "metadata": {},
     "output_type": "execute_result"
    }
   ],
   "source": [
    "\n",
    "dailyact={'Days':['Mon','Tue','Wed','Thur'],'Study':[8,7,9,6],'Play':[2,1,2,1]}\n",
    "df1=pd.DataFrame(dailyact)\n",
    "df1\n"
   ]
  },
  {
   "cell_type": "code",
   "execution_count": 4,
   "metadata": {},
   "outputs": [
    {
     "data": {
      "image/png": "[encoded data removed]",
      "text/plain": [
       "<Figure size 432x288 with 1 Axes>"
      ]
     },
     "metadata": {
      "needs_background": "light"
     },
     "output_type": "display_data"
    }
   ],
   "source": [
    "import matplotlib.pyplot as plt\n",
    "df1['Study'].plot()\n",
    "plt.show()"
   ]
  },
  {
   "cell_type": "code",
   "execution_count": null,
   "metadata": {},
   "outputs": [],
   "source": []
  }
 ],
 "metadata": {
  "kernelspec": {
   "display_name": "Python 3",
   "language": "python",
   "name": "python3"
  },
  "language_info": {
   "codemirror_mode": {
    "name": "ipython",
    "version": 3
   },
   "file_extension": ".py",
   "mimetype": "text/x-python",
   "name": "python",
   "nbconvert_exporter": "python",
   "pygments_lexer": "ipython3",
   "version": "3.7.7"
  }
 },
 "nbformat": 4,
 "nbformat_minor": 4
}
